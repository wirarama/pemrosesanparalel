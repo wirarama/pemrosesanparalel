{
 "cells": [
  {
   "cell_type": "code",
   "execution_count": null,
   "id": "0c3e361a",
   "metadata": {},
   "outputs": [],
   "source": [
    "!pip install paho-mqtt"
   ]
  },
  {
   "cell_type": "markdown",
   "id": "bb48149c",
   "metadata": {},
   "source": [
    "# membuat mosquitto bisa menghadle data di luar localhost\n",
    "- edit mosquitto.conf menggunakan notepad dengan administrator\n",
    "- tambahkan :\n",
    "    - allow_anonymous true\n",
    "    - listener 1883 0.0.0.0\n",
    "- atau buat file conf baru dan jalankan mosquitto -c C:\\lokasi\\file.conf (pastikan sudah masuk di folder mosquitto di program files"
   ]
  },
  {
   "cell_type": "markdown",
   "id": "3992bad0",
   "metadata": {},
   "source": [
    "# restart mosquitto\n",
    "- Jalani sc stop mosquitto pada cmd dengan administrator\n",
    "- Jalani sc start mosquitto lagi sebagai restart "
   ]
  },
  {
   "cell_type": "markdown",
   "id": "56283a4b",
   "metadata": {},
   "source": [
    "- mosquitto_passwd -c C:\\\"Program Files\"\\mosquitto\\passwd user1 password1\n",
    "- mosquitto_passwd -b C:\\\"Program Files\"\\mosquitto\\passwd user2 password2\n",
    "- mosquitto_passwd -D C:\\\"Program Files\"\\mosquitto\\passwd user2"
   ]
  },
  {
   "cell_type": "code",
   "execution_count": 7,
   "id": "814ecbf4",
   "metadata": {},
   "outputs": [],
   "source": [
    "import paho.mqtt.client as mqtt\n",
    "from time import sleep"
   ]
  },
  {
   "cell_type": "markdown",
   "id": "2a53a79f",
   "metadata": {},
   "source": [
    "### cara simple"
   ]
  },
  {
   "cell_type": "code",
   "execution_count": 1,
   "id": "5c8e00a2",
   "metadata": {},
   "outputs": [],
   "source": [
    "import paho.mqtt.subscribe as subscribe"
   ]
  },
  {
   "cell_type": "code",
   "execution_count": 9,
   "id": "1ff0def5",
   "metadata": {},
   "outputs": [
    {
     "name": "stdout",
     "output_type": "stream",
     "text": [
      "test b'hallo om apa kabar'\n"
     ]
    }
   ],
   "source": [
    "msg = subscribe.simple(\"test\")\n",
    "print(\"%s %s\" % (msg.topic, msg.payload))\n",
    "#sleep(60)"
   ]
  },
  {
   "cell_type": "markdown",
   "id": "3d8d5b3a",
   "metadata": {},
   "source": [
    "### cara standard"
   ]
  },
  {
   "cell_type": "code",
   "execution_count": null,
   "id": "3ce83aa8",
   "metadata": {},
   "outputs": [],
   "source": [
    "client = mqtt.Client()\n",
    "client.connect(\"127.0.0.1\")"
   ]
  },
  {
   "cell_type": "code",
   "execution_count": null,
   "id": "f49cb979",
   "metadata": {},
   "outputs": [],
   "source": [
    "client.publish(\"test\",\"hallo\")"
   ]
  },
  {
   "cell_type": "code",
   "execution_count": null,
   "id": "82895a31",
   "metadata": {},
   "outputs": [],
   "source": [
    "client.subscribe(\"test\")"
   ]
  },
  {
   "cell_type": "markdown",
   "id": "1ed2007e",
   "metadata": {},
   "source": [
    "### dijalankan satu kali ketika terkoneksi"
   ]
  },
  {
   "cell_type": "code",
   "execution_count": 10,
   "id": "aa283d57",
   "metadata": {},
   "outputs": [],
   "source": [
    "def on_connect(client, userdata, flags, rc):\n",
    "    print(\"Connected with result code \"+str(rc))\n",
    "    client.subscribe(\"test\")\n",
    "    client.subscribe(\"topik\")"
   ]
  },
  {
   "cell_type": "markdown",
   "id": "64ab5062",
   "metadata": {},
   "source": [
    "### dijalankan ketika menerima pesan"
   ]
  },
  {
   "cell_type": "code",
   "execution_count": 11,
   "id": "3695b6b5",
   "metadata": {},
   "outputs": [],
   "source": [
    "def on_message(client, userdata, message):\n",
    "    print(\"message received \" ,str(message.payload.decode(\"utf-8\")))\n",
    "    print(\"message topic=\",message.topic)\n",
    "    print(\"message qos=\",message.qos)\n",
    "    print(\"message retain flag=\",message.retain,end=\"\\n\\n\")"
   ]
  },
  {
   "cell_type": "markdown",
   "id": "57882ce4",
   "metadata": {},
   "source": [
    "# eksekusi loop (tidak perlu diubah2)"
   ]
  },
  {
   "cell_type": "code",
   "execution_count": 12,
   "id": "c5c967d4",
   "metadata": {},
   "outputs": [
    {
     "name": "stdout",
     "output_type": "stream",
     "text": [
      "Connected with result code 0\n",
      "message received  hallo 0\n",
      "message topic= test\n",
      "message qos= 0\n",
      "message retain flag= 0\n",
      "\n",
      "message received  pagi siang malam 20\n",
      "message topic= topik\n",
      "message qos= 0\n",
      "message retain flag= 0\n",
      "\n",
      "message received  hallo 1\n",
      "message topic= test\n",
      "message qos= 0\n",
      "message retain flag= 0\n",
      "\n",
      "message received  pagi siang malam 19\n",
      "message topic= topik\n",
      "message qos= 0\n",
      "message retain flag= 0\n",
      "\n",
      "message received  hallo 2\n",
      "message topic= test\n",
      "message qos= 0\n",
      "message retain flag= 0\n",
      "\n",
      "message received  pagi siang malam 18\n",
      "message topic= topik\n",
      "message qos= 0\n",
      "message retain flag= 0\n",
      "\n",
      "message received  hallo 3\n",
      "message topic= test\n",
      "message qos= 0\n",
      "message retain flag= 0\n",
      "\n",
      "message received  pagi siang malam 17\n",
      "message topic= topik\n",
      "message qos= 0\n",
      "message retain flag= 0\n",
      "\n",
      "message received  hallo 4\n",
      "message topic= test\n",
      "message qos= 0\n",
      "message retain flag= 0\n",
      "\n",
      "message received  pagi siang malam 16\n",
      "message topic= topik\n",
      "message qos= 0\n",
      "message retain flag= 0\n",
      "\n",
      "message received  hallo 5\n",
      "message topic= test\n",
      "message qos= 0\n",
      "message retain flag= 0\n",
      "\n",
      "message received  pagi siang malam 15\n",
      "message topic= topik\n",
      "message qos= 0\n",
      "message retain flag= 0\n",
      "\n",
      "message received  hallo 6\n",
      "message topic= test\n",
      "message qos= 0\n",
      "message retain flag= 0\n",
      "\n",
      "message received  pagi siang malam 14\n",
      "message topic= topik\n",
      "message qos= 0\n",
      "message retain flag= 0\n",
      "\n",
      "message received  hallo 7\n",
      "message topic= test\n",
      "message qos= 0\n",
      "message retain flag= 0\n",
      "\n",
      "message received  pagi siang malam 13\n",
      "message topic= topik\n",
      "message qos= 0\n",
      "message retain flag= 0\n",
      "\n",
      "message received  hallo 8\n",
      "message topic= test\n",
      "message qos= 0\n",
      "message retain flag= 0\n",
      "\n",
      "message received  pagi siang malam 12\n",
      "message topic= topik\n",
      "message qos= 0\n",
      "message retain flag= 0\n",
      "\n",
      "message received  hallo 9\n",
      "message topic= test\n",
      "message qos= 0\n",
      "message retain flag= 0\n",
      "\n",
      "message received  pagi siang malam 11\n",
      "message topic= topik\n",
      "message qos= 0\n",
      "message retain flag= 0\n",
      "\n",
      "message received  hallo 10\n",
      "message topic= test\n",
      "message qos= 0\n",
      "message retain flag= 0\n",
      "\n",
      "message received  pagi siang malam 10\n",
      "message topic= topik\n",
      "message qos= 0\n",
      "message retain flag= 0\n",
      "\n",
      "message received  hallo 11\n",
      "message topic= test\n",
      "message qos= 0\n",
      "message retain flag= 0\n",
      "\n",
      "message received  pagi siang malam 9\n",
      "message topic= topik\n",
      "message qos= 0\n",
      "message retain flag= 0\n",
      "\n",
      "message received  hallo 12\n",
      "message topic= test\n",
      "message qos= 0\n",
      "message retain flag= 0\n",
      "\n",
      "message received  pagi siang malam 8\n",
      "message topic= topik\n",
      "message qos= 0\n",
      "message retain flag= 0\n",
      "\n",
      "message received  hallo 13\n",
      "message topic= test\n",
      "message qos= 0\n",
      "message retain flag= 0\n",
      "\n",
      "message received  pagi siang malam 7\n",
      "message topic= topik\n",
      "message qos= 0\n",
      "message retain flag= 0\n",
      "\n",
      "message received  hallo 14\n",
      "message topic= test\n",
      "message qos= 0\n",
      "message retain flag= 0\n",
      "\n",
      "message received  pagi siang malam 6\n",
      "message topic= topik\n",
      "message qos= 0\n",
      "message retain flag= 0\n",
      "\n",
      "message received  hallo 15\n",
      "message topic= test\n",
      "message qos= 0\n",
      "message retain flag= 0\n",
      "\n",
      "message received  pagi siang malam 5\n",
      "message topic= topik\n",
      "message qos= 0\n",
      "message retain flag= 0\n",
      "\n",
      "message received  hallo 16\n",
      "message topic= test\n",
      "message qos= 0\n",
      "message retain flag= 0\n",
      "\n",
      "message received  pagi siang malam 4\n",
      "message topic= topik\n",
      "message qos= 0\n",
      "message retain flag= 0\n",
      "\n",
      "message received  hallo 17\n",
      "message topic= test\n",
      "message qos= 0\n",
      "message retain flag= 0\n",
      "\n",
      "message received  pagi siang malam 3\n",
      "message topic= topik\n",
      "message qos= 0\n",
      "message retain flag= 0\n",
      "\n",
      "message received  hallo 18\n",
      "message topic= test\n",
      "message qos= 0\n",
      "message retain flag= 0\n",
      "\n",
      "message received  pagi siang malam 2\n",
      "message topic= topik\n",
      "message qos= 0\n",
      "message retain flag= 0\n",
      "\n",
      "message received  hallo 19\n",
      "message topic= test\n",
      "message qos= 0\n",
      "message retain flag= 0\n",
      "\n",
      "message received  pagi siang malam 1\n",
      "message topic= topik\n",
      "message qos= 0\n",
      "message retain flag= 0\n",
      "\n"
     ]
    },
    {
     "ename": "KeyboardInterrupt",
     "evalue": "",
     "output_type": "error",
     "traceback": [
      "\u001b[1;31m---------------------------------------------------------------------------\u001b[0m",
      "\u001b[1;31mKeyboardInterrupt\u001b[0m                         Traceback (most recent call last)",
      "Cell \u001b[1;32mIn[12], line 6\u001b[0m\n\u001b[0;32m      4\u001b[0m client\u001b[38;5;241m.\u001b[39mconnect(\u001b[38;5;124m\"\u001b[39m\u001b[38;5;124m127.0.0.1\u001b[39m\u001b[38;5;124m\"\u001b[39m)\n\u001b[0;32m      5\u001b[0m \u001b[38;5;66;03m#client.loop_start()\u001b[39;00m\n\u001b[1;32m----> 6\u001b[0m client\u001b[38;5;241m.\u001b[39mloop_forever()\n",
      "File \u001b[1;32m~\\anaconda3\\Lib\\site-packages\\paho\\mqtt\\client.py:1756\u001b[0m, in \u001b[0;36mClient.loop_forever\u001b[1;34m(self, timeout, max_packets, retry_first_connection)\u001b[0m\n\u001b[0;32m   1754\u001b[0m rc \u001b[38;5;241m=\u001b[39m MQTT_ERR_SUCCESS\n\u001b[0;32m   1755\u001b[0m \u001b[38;5;28;01mwhile\u001b[39;00m rc \u001b[38;5;241m==\u001b[39m MQTT_ERR_SUCCESS:\n\u001b[1;32m-> 1756\u001b[0m     rc \u001b[38;5;241m=\u001b[39m \u001b[38;5;28mself\u001b[39m\u001b[38;5;241m.\u001b[39m_loop(timeout)\n\u001b[0;32m   1757\u001b[0m     \u001b[38;5;66;03m# We don't need to worry about locking here, because we've\u001b[39;00m\n\u001b[0;32m   1758\u001b[0m     \u001b[38;5;66;03m# either called loop_forever() when in single threaded mode, or\u001b[39;00m\n\u001b[0;32m   1759\u001b[0m     \u001b[38;5;66;03m# in multi threaded mode when loop_stop() has been called and\u001b[39;00m\n\u001b[0;32m   1760\u001b[0m     \u001b[38;5;66;03m# so no other threads can access _out_packet or _messages.\u001b[39;00m\n\u001b[0;32m   1761\u001b[0m     \u001b[38;5;28;01mif\u001b[39;00m (\u001b[38;5;28mself\u001b[39m\u001b[38;5;241m.\u001b[39m_thread_terminate \u001b[38;5;129;01mis\u001b[39;00m \u001b[38;5;28;01mTrue\u001b[39;00m\n\u001b[0;32m   1762\u001b[0m         \u001b[38;5;129;01mand\u001b[39;00m \u001b[38;5;28mlen\u001b[39m(\u001b[38;5;28mself\u001b[39m\u001b[38;5;241m.\u001b[39m_out_packet) \u001b[38;5;241m==\u001b[39m \u001b[38;5;241m0\u001b[39m\n\u001b[0;32m   1763\u001b[0m             \u001b[38;5;129;01mand\u001b[39;00m \u001b[38;5;28mlen\u001b[39m(\u001b[38;5;28mself\u001b[39m\u001b[38;5;241m.\u001b[39m_out_messages) \u001b[38;5;241m==\u001b[39m \u001b[38;5;241m0\u001b[39m):\n",
      "File \u001b[1;32m~\\anaconda3\\Lib\\site-packages\\paho\\mqtt\\client.py:1150\u001b[0m, in \u001b[0;36mClient._loop\u001b[1;34m(self, timeout)\u001b[0m\n\u001b[0;32m   1147\u001b[0m     rlist \u001b[38;5;241m=\u001b[39m [\u001b[38;5;28mself\u001b[39m\u001b[38;5;241m.\u001b[39m_sock, \u001b[38;5;28mself\u001b[39m\u001b[38;5;241m.\u001b[39m_sockpairR]\n\u001b[0;32m   1149\u001b[0m \u001b[38;5;28;01mtry\u001b[39;00m:\n\u001b[1;32m-> 1150\u001b[0m     socklist \u001b[38;5;241m=\u001b[39m select\u001b[38;5;241m.\u001b[39mselect(rlist, wlist, [], timeout)\n\u001b[0;32m   1151\u001b[0m \u001b[38;5;28;01mexcept\u001b[39;00m \u001b[38;5;167;01mTypeError\u001b[39;00m:\n\u001b[0;32m   1152\u001b[0m     \u001b[38;5;66;03m# Socket isn't correct type, in likelihood connection is lost\u001b[39;00m\n\u001b[0;32m   1153\u001b[0m     \u001b[38;5;28;01mreturn\u001b[39;00m MQTT_ERR_CONN_LOST\n",
      "\u001b[1;31mKeyboardInterrupt\u001b[0m: "
     ]
    }
   ],
   "source": [
    "client = mqtt.Client()\n",
    "client.on_connect = on_connect\n",
    "client.on_message = on_message\n",
    "client.connect(\"127.0.0.1\")\n",
    "#client.loop_start()\n",
    "client.loop_forever()\n",
    "#sleep(60) #bagian ini saja cukup diubah\n",
    "#client.loop_stop()"
   ]
  },
  {
   "cell_type": "markdown",
   "id": "b83fbdef",
   "metadata": {},
   "source": [
    "# dengan MySQL"
   ]
  },
  {
   "cell_type": "code",
   "execution_count": null,
   "id": "56e0cbe1",
   "metadata": {},
   "outputs": [],
   "source": [
    "!pip install mysql-connector-python-rf"
   ]
  },
  {
   "cell_type": "code",
   "execution_count": 12,
   "id": "f32c2f51",
   "metadata": {},
   "outputs": [],
   "source": [
    "import mysql.connector\n",
    "mydb = mysql.connector.connect(\n",
    "  host=\"localhost\",\n",
    "  user=\"mpi\",\n",
    "  password=\"mpi\",\n",
    "  database=\"mpitest\"\n",
    ")\n",
    "mycursor = mydb.cursor()"
   ]
  },
  {
   "cell_type": "code",
   "execution_count": 13,
   "id": "6c210c1f",
   "metadata": {},
   "outputs": [],
   "source": [
    "def insertData(val):\n",
    "    sql = \"INSERT INTO tabelnum (suhu,kelembaban) VALUES (%s, %s)\"\n",
    "    mycursor.execute(sql, val)\n",
    "    mydb.commit()"
   ]
  },
  {
   "cell_type": "code",
   "execution_count": 14,
   "id": "fa996dde",
   "metadata": {},
   "outputs": [],
   "source": [
    "def on_connect(client, userdata, flags, rc):\n",
    "    print(\"Connected with result code \"+str(rc))\n",
    "    client.subscribe(\"testsql\")"
   ]
  },
  {
   "cell_type": "code",
   "execution_count": 15,
   "id": "44f50f6f",
   "metadata": {},
   "outputs": [],
   "source": [
    "def on_message(client, userdata, message):\n",
    "    if (message.topic==\"testsql\"):\n",
    "        d = str(message.payload.decode(\"utf-8\"))\n",
    "        val = d.split(\",\")\n",
    "        insertData(val)\n",
    "        print(val)"
   ]
  },
  {
   "cell_type": "markdown",
   "id": "6fe67a7a",
   "metadata": {},
   "source": [
    "### cek data"
   ]
  },
  {
   "cell_type": "code",
   "execution_count": 17,
   "id": "b6201ffb",
   "metadata": {},
   "outputs": [
    {
     "name": "stdout",
     "output_type": "stream",
     "text": [
      "(50, 28.47, 55, datetime.datetime(2022, 7, 20, 14, 16, 34))\n",
      "(49, 28.12, 41, datetime.datetime(2022, 7, 20, 14, 16, 33))\n",
      "(48, 28.56, 45, datetime.datetime(2022, 7, 20, 14, 16, 32))\n",
      "(47, 29.42, 32, datetime.datetime(2022, 7, 20, 14, 16, 31))\n",
      "(46, 29.84, 56, datetime.datetime(2022, 7, 20, 14, 16, 30))\n",
      "(45, 30.6, 30, datetime.datetime(2022, 7, 20, 14, 16, 29))\n",
      "(44, 31.03, 31, datetime.datetime(2022, 7, 20, 14, 16, 28))\n",
      "(43, 30.72, 57, datetime.datetime(2022, 7, 20, 14, 16, 27))\n",
      "(42, 31.31, 56, datetime.datetime(2022, 7, 20, 14, 16, 26))\n",
      "(41, 31.98, 44, datetime.datetime(2022, 7, 20, 14, 16, 25))\n",
      "(40, 29.82, 32, datetime.datetime(2022, 7, 20, 14, 16, 24))\n",
      "(39, 28.72, 55, datetime.datetime(2022, 7, 20, 14, 16, 23))\n",
      "(38, 31.76, 47, datetime.datetime(2022, 7, 20, 14, 16, 22))\n",
      "(37, 32.47, 59, datetime.datetime(2022, 7, 20, 14, 16, 21))\n",
      "(36, 33.87, 34, datetime.datetime(2022, 7, 20, 14, 16, 20))\n",
      "(35, 31.68, 54, datetime.datetime(2022, 7, 20, 14, 16, 19))\n",
      "(34, 28.19, 59, datetime.datetime(2022, 7, 20, 14, 16, 18))\n",
      "(33, 29.04, 39, datetime.datetime(2022, 7, 20, 14, 16, 17))\n",
      "(32, 29.42, 32, datetime.datetime(2022, 7, 20, 14, 16, 16))\n",
      "(31, 28.75, 44, datetime.datetime(2022, 7, 20, 14, 16, 15))\n",
      "(30, 31.91, 30, datetime.datetime(2022, 7, 20, 14, 16, 14))\n",
      "(29, 31.82, 39, datetime.datetime(2022, 7, 20, 14, 16, 13))\n",
      "(28, 29.11, 56, datetime.datetime(2022, 7, 20, 14, 16, 12))\n",
      "(27, 31.82, 55, datetime.datetime(2022, 7, 20, 14, 16, 11))\n",
      "(26, 31.92, 50, datetime.datetime(2022, 7, 20, 14, 16, 10))\n",
      "(25, 29.17, 36, datetime.datetime(2022, 7, 20, 6, 49, 52))\n",
      "(24, 30.94, 38, datetime.datetime(2022, 7, 20, 6, 49, 51))\n",
      "(23, 31.9, 60, datetime.datetime(2022, 7, 20, 6, 49, 50))\n",
      "(22, 29.48, 55, datetime.datetime(2022, 7, 20, 6, 49, 49))\n",
      "(21, 33.0, 46, datetime.datetime(2022, 7, 20, 6, 49, 48))\n",
      "(20, 28.86, 47, datetime.datetime(2022, 7, 20, 6, 49, 47))\n",
      "(19, 32.46, 57, datetime.datetime(2022, 7, 20, 6, 49, 46))\n",
      "(18, 30.95, 47, datetime.datetime(2022, 7, 20, 6, 49, 45))\n",
      "(17, 32.88, 34, datetime.datetime(2022, 7, 20, 6, 49, 44))\n",
      "(16, 33.74, 52, datetime.datetime(2022, 7, 20, 6, 49, 43))\n",
      "(15, 33.37, 32, datetime.datetime(2022, 7, 20, 6, 49, 42))\n",
      "(14, 29.94, 52, datetime.datetime(2022, 7, 20, 6, 49, 41))\n",
      "(13, 30.27, 51, datetime.datetime(2022, 7, 20, 6, 49, 40))\n",
      "(12, 33.82, 35, datetime.datetime(2022, 7, 20, 6, 49, 39))\n",
      "(11, 30.68, 40, datetime.datetime(2022, 7, 20, 6, 49, 38))\n",
      "(10, 29.71, 48, datetime.datetime(2022, 7, 20, 6, 49, 37))\n",
      "(9, 30.18, 55, datetime.datetime(2022, 7, 20, 6, 49, 36))\n",
      "(8, 30.03, 50, datetime.datetime(2022, 7, 20, 6, 49, 35))\n",
      "(7, 28.31, 53, datetime.datetime(2022, 7, 20, 6, 49, 34))\n",
      "(6, 30.1, 53, datetime.datetime(2022, 7, 20, 6, 49, 33))\n",
      "(5, 31.91, 49, datetime.datetime(2022, 7, 20, 6, 49, 32))\n",
      "(4, 29.28, 52, datetime.datetime(2022, 7, 20, 6, 49, 31))\n",
      "(3, 31.68, 58, datetime.datetime(2022, 7, 20, 6, 49, 30))\n",
      "(2, 33.39, 34, datetime.datetime(2022, 7, 20, 6, 49, 29))\n",
      "(1, 33.21, 31, datetime.datetime(2022, 7, 20, 6, 49, 28))\n"
     ]
    }
   ],
   "source": [
    "mycursor.execute(\"SELECT * FROM tabelnum ORDER BY id DESC\")\n",
    "myresult = mycursor.fetchall()\n",
    "for x in myresult:\n",
    "    print(x)"
   ]
  },
  {
   "cell_type": "code",
   "execution_count": 18,
   "id": "12af8257",
   "metadata": {},
   "outputs": [],
   "source": []
  },
  {
   "cell_type": "code",
   "execution_count": 19,
   "id": "89e7f2f8",
   "metadata": {},
   "outputs": [],
   "source": [
    "def on_connect(client, userdata, flags, rc):\n",
    "    print(\"Connected with result code \"+str(rc))\n",
    "    client.subscribe(\"testcsv\")"
   ]
  },
  {
   "cell_type": "code",
   "execution_count": 25,
   "id": "c4a1f249",
   "metadata": {},
   "outputs": [],
   "source": [
    "def on_message(client, userdata, message):\n",
    "    if (message.topic==\"testcsv\"):\n",
    "        d = str(message.payload.decode(\"utf-8\"))\n",
    "        tulisfile(d)\n",
    "        print(d)"
   ]
  },
  {
   "cell_type": "code",
   "execution_count": 24,
   "id": "ee3e8c9c",
   "metadata": {},
   "outputs": [],
   "source": [
    "def tulisfile(d):\n",
    "    f = open(\"test.csv\",\"a\")\n",
    "    f.write(d+\"\\n\")\n",
    "    f.close()"
   ]
  },
  {
   "cell_type": "code",
   "execution_count": 27,
   "id": "f403c1d9",
   "metadata": {},
   "outputs": [
    {
     "name": "stdout",
     "output_type": "stream",
     "text": [
      "now = 2022-07-20 14:39:05.645594\n"
     ]
    }
   ],
   "source": [
    "from datetime import datetime\n",
    "now = datetime.now()\n",
    " \n",
    "print(\"now =\", now)"
   ]
  },
  {
   "cell_type": "code",
   "execution_count": null,
   "id": "1c12b9ef",
   "metadata": {},
   "outputs": [],
   "source": []
  }
 ],
 "metadata": {
  "kernelspec": {
   "display_name": "Python 3 (ipykernel)",
   "language": "python",
   "name": "python3"
  },
  "language_info": {
   "codemirror_mode": {
    "name": "ipython",
    "version": 3
   },
   "file_extension": ".py",
   "mimetype": "text/x-python",
   "name": "python",
   "nbconvert_exporter": "python",
   "pygments_lexer": "ipython3",
   "version": "3.11.4"
  }
 },
 "nbformat": 4,
 "nbformat_minor": 5
}
