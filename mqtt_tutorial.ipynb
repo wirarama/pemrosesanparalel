{
 "cells": [
  {
   "cell_type": "code",
   "execution_count": null,
   "id": "0c3e361a",
   "metadata": {},
   "outputs": [],
   "source": [
    "!pip install paho-mqtt"
   ]
  },
  {
   "cell_type": "code",
   "execution_count": 1,
   "id": "814ecbf4",
   "metadata": {},
   "outputs": [],
   "source": [
    "import paho.mqtt.client as mqtt\n",
    "from time import sleep"
   ]
  },
  {
   "cell_type": "markdown",
   "id": "2a53a79f",
   "metadata": {},
   "source": [
    "### cara simple"
   ]
  },
  {
   "cell_type": "code",
   "execution_count": null,
   "id": "5c8e00a2",
   "metadata": {},
   "outputs": [],
   "source": [
    "import paho.mqtt.subscribe as subscribe"
   ]
  },
  {
   "cell_type": "code",
   "execution_count": null,
   "id": "1ff0def5",
   "metadata": {},
   "outputs": [],
   "source": [
    "msg = subscribe.simple(\"test\",hostname=\"127.0.0.1\")\n",
    "print(\"%s %s\" % (msg.topic, msg.payload))\n",
    "#sleep(60)"
   ]
  },
  {
   "cell_type": "markdown",
   "id": "3d8d5b3a",
   "metadata": {},
   "source": [
    "### cara standard"
   ]
  },
  {
   "cell_type": "code",
   "execution_count": null,
   "id": "3ce83aa8",
   "metadata": {},
   "outputs": [],
   "source": [
    "client = mqtt.Client()\n",
    "client.connect(\"127.0.0.1\")"
   ]
  },
  {
   "cell_type": "code",
   "execution_count": null,
   "id": "f49cb979",
   "metadata": {},
   "outputs": [],
   "source": [
    "client.publish(\"test\",\"hallo\")"
   ]
  },
  {
   "cell_type": "code",
   "execution_count": null,
   "id": "82895a31",
   "metadata": {},
   "outputs": [],
   "source": [
    "client.subscribe(\"test\")"
   ]
  },
  {
   "cell_type": "markdown",
   "id": "1ed2007e",
   "metadata": {},
   "source": [
    "### dijalankan satu kali ketika terkoneksi"
   ]
  },
  {
   "cell_type": "code",
   "execution_count": null,
   "id": "aa283d57",
   "metadata": {},
   "outputs": [],
   "source": [
    "def on_connect(client, userdata, flags, rc):\n",
    "    print(\"Connected with result code \"+str(rc))\n",
    "    client.subscribe(\"test\")\n",
    "    client.subscribe(\"topik\")"
   ]
  },
  {
   "cell_type": "markdown",
   "id": "64ab5062",
   "metadata": {},
   "source": [
    "### dijalankan ketika menerima pesan"
   ]
  },
  {
   "cell_type": "code",
   "execution_count": null,
   "id": "3695b6b5",
   "metadata": {},
   "outputs": [],
   "source": [
    "def on_message(client, userdata, message):\n",
    "    print(\"message received \" ,str(message.payload.decode(\"utf-8\")))\n",
    "    print(\"message topic=\",message.topic)\n",
    "    print(\"message qos=\",message.qos)\n",
    "    print(\"message retain flag=\",message.retain,end=\"\\n\\n\")"
   ]
  },
  {
   "cell_type": "markdown",
   "id": "57882ce4",
   "metadata": {},
   "source": [
    "### eksekusi loop (tidak perlu diubah2)"
   ]
  },
  {
   "cell_type": "code",
   "execution_count": 17,
   "id": "c5c967d4",
   "metadata": {},
   "outputs": [
    {
     "name": "stdout",
     "output_type": "stream",
     "text": [
      "Connected with result code 0\n",
      "['33.21', '31']\n",
      "['33.39', '34']\n",
      "['31.68', '58']\n",
      "['29.28', '52']\n",
      "['31.91', '49']\n",
      "['30.1', '53']\n",
      "['28.31', '53']\n",
      "['30.03', '50']\n",
      "['30.18', '55']\n",
      "['29.71', '48']\n",
      "['30.68', '40']\n",
      "['33.82', '35']\n",
      "['30.27', '51']\n",
      "['29.94', '52']\n",
      "['33.37', '32']\n",
      "['33.74', '52']\n",
      "['32.88', '34']\n",
      "['30.95', '47']\n",
      "['32.46', '57']\n",
      "['28.86', '47']\n",
      "['33.0', '46']\n",
      "['29.48', '55']\n",
      "['31.9', '60']\n",
      "['30.94', '38']\n",
      "['29.17', '36']\n"
     ]
    }
   ],
   "source": [
    "client = mqtt.Client()\n",
    "client.on_connect = on_connect\n",
    "client.on_message = on_message\n",
    "client.connect(\"127.0.0.1\")\n",
    "client.loop_start()\n",
    "sleep(30)\n",
    "client.loop_stop()"
   ]
  },
  {
   "cell_type": "markdown",
   "id": "b83fbdef",
   "metadata": {},
   "source": [
    "# dengan MySQL"
   ]
  },
  {
   "cell_type": "code",
   "execution_count": 16,
   "id": "f32c2f51",
   "metadata": {},
   "outputs": [],
   "source": [
    "import mysql.connector\n",
    "mydb = mysql.connector.connect(\n",
    "  host=\"localhost\",\n",
    "  user=\"mpi\",\n",
    "  password=\"mpi\",\n",
    "  database=\"mpitest\"\n",
    ")\n",
    "mycursor = mydb.cursor()"
   ]
  },
  {
   "cell_type": "code",
   "execution_count": 5,
   "id": "6c210c1f",
   "metadata": {},
   "outputs": [],
   "source": [
    "def insertData(val):\n",
    "    sql = \"INSERT INTO tabelnum (suhu,kelembaban) VALUES (%s, %s)\"\n",
    "    mycursor.execute(sql, val)\n",
    "    mydb.commit()"
   ]
  },
  {
   "cell_type": "code",
   "execution_count": 6,
   "id": "fa996dde",
   "metadata": {},
   "outputs": [],
   "source": [
    "def on_connect(client, userdata, flags, rc):\n",
    "    print(\"Connected with result code \"+str(rc))\n",
    "    client.subscribe(\"testsql\")"
   ]
  },
  {
   "cell_type": "code",
   "execution_count": 10,
   "id": "44f50f6f",
   "metadata": {},
   "outputs": [],
   "source": [
    "def on_message(client, userdata, message):\n",
    "    if (message.topic==\"testsql\"):\n",
    "        d = str(message.payload.decode(\"utf-8\"))\n",
    "        val = d.split(\",\")\n",
    "        insertData(val)\n",
    "        print(val)"
   ]
  },
  {
   "cell_type": "markdown",
   "id": "6fe67a7a",
   "metadata": {},
   "source": [
    "### cek data"
   ]
  },
  {
   "cell_type": "code",
   "execution_count": 18,
   "id": "b6201ffb",
   "metadata": {},
   "outputs": [
    {
     "name": "stdout",
     "output_type": "stream",
     "text": [
      "(1, 33.21, 31, datetime.datetime(2022, 7, 20, 6, 49, 28))\n",
      "(2, 33.39, 34, datetime.datetime(2022, 7, 20, 6, 49, 29))\n",
      "(3, 31.68, 58, datetime.datetime(2022, 7, 20, 6, 49, 30))\n",
      "(4, 29.28, 52, datetime.datetime(2022, 7, 20, 6, 49, 31))\n",
      "(5, 31.91, 49, datetime.datetime(2022, 7, 20, 6, 49, 32))\n",
      "(6, 30.1, 53, datetime.datetime(2022, 7, 20, 6, 49, 33))\n",
      "(7, 28.31, 53, datetime.datetime(2022, 7, 20, 6, 49, 34))\n",
      "(8, 30.03, 50, datetime.datetime(2022, 7, 20, 6, 49, 35))\n",
      "(9, 30.18, 55, datetime.datetime(2022, 7, 20, 6, 49, 36))\n",
      "(10, 29.71, 48, datetime.datetime(2022, 7, 20, 6, 49, 37))\n",
      "(11, 30.68, 40, datetime.datetime(2022, 7, 20, 6, 49, 38))\n",
      "(12, 33.82, 35, datetime.datetime(2022, 7, 20, 6, 49, 39))\n",
      "(13, 30.27, 51, datetime.datetime(2022, 7, 20, 6, 49, 40))\n",
      "(14, 29.94, 52, datetime.datetime(2022, 7, 20, 6, 49, 41))\n",
      "(15, 33.37, 32, datetime.datetime(2022, 7, 20, 6, 49, 42))\n",
      "(16, 33.74, 52, datetime.datetime(2022, 7, 20, 6, 49, 43))\n",
      "(17, 32.88, 34, datetime.datetime(2022, 7, 20, 6, 49, 44))\n",
      "(18, 30.95, 47, datetime.datetime(2022, 7, 20, 6, 49, 45))\n",
      "(19, 32.46, 57, datetime.datetime(2022, 7, 20, 6, 49, 46))\n",
      "(20, 28.86, 47, datetime.datetime(2022, 7, 20, 6, 49, 47))\n",
      "(21, 33.0, 46, datetime.datetime(2022, 7, 20, 6, 49, 48))\n",
      "(22, 29.48, 55, datetime.datetime(2022, 7, 20, 6, 49, 49))\n",
      "(23, 31.9, 60, datetime.datetime(2022, 7, 20, 6, 49, 50))\n",
      "(24, 30.94, 38, datetime.datetime(2022, 7, 20, 6, 49, 51))\n",
      "(25, 29.17, 36, datetime.datetime(2022, 7, 20, 6, 49, 52))\n"
     ]
    }
   ],
   "source": [
    "mycursor.execute(\"SELECT * FROM tabelnum\")\n",
    "myresult = mycursor.fetchall()\n",
    "for x in myresult:\n",
    "    print(x)"
   ]
  },
  {
   "cell_type": "code",
   "execution_count": null,
   "id": "12af8257",
   "metadata": {},
   "outputs": [],
   "source": []
  }
 ],
 "metadata": {
  "kernelspec": {
   "display_name": "Python 3 (ipykernel)",
   "language": "python",
   "name": "python3"
  },
  "language_info": {
   "codemirror_mode": {
    "name": "ipython",
    "version": 3
   },
   "file_extension": ".py",
   "mimetype": "text/x-python",
   "name": "python",
   "nbconvert_exporter": "python",
   "pygments_lexer": "ipython3",
   "version": "3.9.7"
  }
 },
 "nbformat": 4,
 "nbformat_minor": 5
}
