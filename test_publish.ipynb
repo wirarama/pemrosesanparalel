{
 "cells": [
  {
   "cell_type": "code",
   "execution_count": 1,
   "id": "927adf9f",
   "metadata": {},
   "outputs": [],
   "source": [
    "import paho.mqtt.publish as publish\n",
    "from time import sleep"
   ]
  },
  {
   "cell_type": "code",
   "execution_count": 8,
   "id": "28ecadda",
   "metadata": {},
   "outputs": [],
   "source": [
    "publish.single(\"test\", \"hallo oms\",qos=2)"
   ]
  },
  {
   "cell_type": "code",
   "execution_count": 10,
   "id": "31613968",
   "metadata": {},
   "outputs": [],
   "source": [
    "for i in range(20):\n",
    "    publish.single(\"test\", \"hallo \"+str(i),hostname=\"127.0.0.1\",qos=2)\n",
    "    sleep(1)\n",
    "    publish.single(\"topik\", \"pagi siang malam \"+str(20-i),\n",
    "                   hostname=\"127.0.0.1\",qos=1)\n",
    "    sleep(1)"
   ]
  },
  {
   "cell_type": "code",
   "execution_count": 11,
   "id": "a2d78df9",
   "metadata": {},
   "outputs": [],
   "source": [
    "from random import randint"
   ]
  },
  {
   "cell_type": "code",
   "execution_count": 12,
   "id": "2f4bb38b",
   "metadata": {},
   "outputs": [],
   "source": [
    "for i in range(25):\n",
    "    publish.single(\"testsql\",\n",
    "                   str(randint(2800,3400)/100)+\",\"+str(randint(30,60)),\n",
    "                   hostname=\"127.0.0.1\")\n",
    "    sleep(1)"
   ]
  },
  {
   "cell_type": "code",
   "execution_count": 16,
   "id": "36ba0523",
   "metadata": {},
   "outputs": [],
   "source": [
    "from datetime import datetime"
   ]
  },
  {
   "cell_type": "code",
   "execution_count": 18,
   "id": "6ef7e2f7",
   "metadata": {},
   "outputs": [],
   "source": [
    "for i in range(40):\n",
    "    publish.single(\"testcsv\",\n",
    "                   str(randint(2800,3400)/100)+\",\"+str(randint(30,60))+\",\"+str(datetime.now()),\n",
    "                   hostname=\"127.0.0.1\")\n",
    "    sleep(1)"
   ]
  },
  {
   "cell_type": "code",
   "execution_count": null,
   "id": "599a67df",
   "metadata": {},
   "outputs": [],
   "source": []
  }
 ],
 "metadata": {
  "kernelspec": {
   "display_name": "Python 3 (ipykernel)",
   "language": "python",
   "name": "python3"
  },
  "language_info": {
   "codemirror_mode": {
    "name": "ipython",
    "version": 3
   },
   "file_extension": ".py",
   "mimetype": "text/x-python",
   "name": "python",
   "nbconvert_exporter": "python",
   "pygments_lexer": "ipython3",
   "version": "3.9.7"
  }
 },
 "nbformat": 4,
 "nbformat_minor": 5
}
